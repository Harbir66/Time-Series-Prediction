{
 "cells": [
  {
   "cell_type": "code",
   "execution_count": 50,
   "metadata": {},
   "outputs": [],
   "source": [
    "import pandas as pd\n"
   ]
  },
  {
   "cell_type": "code",
   "execution_count": 73,
   "metadata": {},
   "outputs": [
    {
     "name": "stderr",
     "output_type": "stream",
     "text": [
      "d:\\College\\SEM7\\BIS\\PROJECTS\\Time Series\\Time-Series-Prediction\\env\\lib\\site-packages\\openpyxl\\worksheet\\_reader.py:312: UserWarning: Unknown extension is not supported and will be removed\n",
      "  warn(msg)\n",
      "d:\\College\\SEM7\\BIS\\PROJECTS\\Time Series\\Time-Series-Prediction\\env\\lib\\site-packages\\openpyxl\\worksheet\\_reader.py:312: UserWarning: Conditional Formatting extension is not supported and will be removed\n",
      "  warn(msg)\n"
     ]
    },
    {
     "data": {
      "text/html": [
       "<div>\n",
       "<style scoped>\n",
       "    .dataframe tbody tr th:only-of-type {\n",
       "        vertical-align: middle;\n",
       "    }\n",
       "\n",
       "    .dataframe tbody tr th {\n",
       "        vertical-align: top;\n",
       "    }\n",
       "\n",
       "    .dataframe thead th {\n",
       "        text-align: right;\n",
       "    }\n",
       "</style>\n",
       "<table border=\"1\" class=\"dataframe\">\n",
       "  <thead>\n",
       "    <tr style=\"text-align: right;\">\n",
       "      <th></th>\n",
       "      <th>Unnamed: 0</th>\n",
       "      <th>year</th>\n",
       "      <th>Para-1</th>\n",
       "      <th>Para-2</th>\n",
       "      <th>Para-3</th>\n",
       "      <th>Para-4</th>\n",
       "      <th>Para-5</th>\n",
       "      <th>Para-6</th>\n",
       "      <th>Para-7</th>\n",
       "      <th>Para-8</th>\n",
       "      <th>Para-9</th>\n",
       "      <th>Para-10</th>\n",
       "      <th>Para-11</th>\n",
       "      <th>Para-12</th>\n",
       "      <th>Para-13</th>\n",
       "    </tr>\n",
       "  </thead>\n",
       "  <tbody>\n",
       "    <tr>\n",
       "      <th>0</th>\n",
       "      <td>Sec_1</td>\n",
       "      <td>1</td>\n",
       "      <td>324.0</td>\n",
       "      <td>354.5</td>\n",
       "      <td>17.0</td>\n",
       "      <td>0.0</td>\n",
       "      <td>3</td>\n",
       "      <td>117</td>\n",
       "      <td>2600</td>\n",
       "      <td>400</td>\n",
       "      <td>0.0</td>\n",
       "      <td>0.0</td>\n",
       "      <td>0.0</td>\n",
       "      <td>0</td>\n",
       "      <td>1.52</td>\n",
       "    </tr>\n",
       "    <tr>\n",
       "      <th>1</th>\n",
       "      <td>NaN</td>\n",
       "      <td>2</td>\n",
       "      <td>324.0</td>\n",
       "      <td>161.1</td>\n",
       "      <td>18.2</td>\n",
       "      <td>0.0</td>\n",
       "      <td>4</td>\n",
       "      <td>106</td>\n",
       "      <td>5950</td>\n",
       "      <td>1190</td>\n",
       "      <td>0.0</td>\n",
       "      <td>3.4</td>\n",
       "      <td>0.0</td>\n",
       "      <td>0</td>\n",
       "      <td>1.62</td>\n",
       "    </tr>\n",
       "    <tr>\n",
       "      <th>2</th>\n",
       "      <td>NaN</td>\n",
       "      <td>3</td>\n",
       "      <td>324.0</td>\n",
       "      <td>170.7</td>\n",
       "      <td>18.5</td>\n",
       "      <td>0.0</td>\n",
       "      <td>4</td>\n",
       "      <td>110</td>\n",
       "      <td>5950</td>\n",
       "      <td>1190</td>\n",
       "      <td>0.0</td>\n",
       "      <td>21.3</td>\n",
       "      <td>0.0</td>\n",
       "      <td>4</td>\n",
       "      <td>1.68</td>\n",
       "    </tr>\n",
       "    <tr>\n",
       "      <th>3</th>\n",
       "      <td>NaN</td>\n",
       "      <td>4</td>\n",
       "      <td>324.0</td>\n",
       "      <td>223.9</td>\n",
       "      <td>18.9</td>\n",
       "      <td>0.0</td>\n",
       "      <td>3</td>\n",
       "      <td>110</td>\n",
       "      <td>6150</td>\n",
       "      <td>1340</td>\n",
       "      <td>0.0</td>\n",
       "      <td>21.3</td>\n",
       "      <td>0.0</td>\n",
       "      <td>5</td>\n",
       "      <td>1.78</td>\n",
       "    </tr>\n",
       "    <tr>\n",
       "      <th>4</th>\n",
       "      <td>NaN</td>\n",
       "      <td>5</td>\n",
       "      <td>324.0</td>\n",
       "      <td>228.2</td>\n",
       "      <td>18.4</td>\n",
       "      <td>0.0</td>\n",
       "      <td>2</td>\n",
       "      <td>113</td>\n",
       "      <td>6340</td>\n",
       "      <td>1450</td>\n",
       "      <td>0.0</td>\n",
       "      <td>23.9</td>\n",
       "      <td>0.0</td>\n",
       "      <td>7</td>\n",
       "      <td>1.80</td>\n",
       "    </tr>\n",
       "  </tbody>\n",
       "</table>\n",
       "</div>"
      ],
      "text/plain": [
       "  Unnamed: 0  year  Para-1  Para-2  Para-3  Para-4  Para-5  Para-6  Para-7  \\\n",
       "0      Sec_1     1   324.0   354.5    17.0     0.0       3     117    2600   \n",
       "1        NaN     2   324.0   161.1    18.2     0.0       4     106    5950   \n",
       "2        NaN     3   324.0   170.7    18.5     0.0       4     110    5950   \n",
       "3        NaN     4   324.0   223.9    18.9     0.0       3     110    6150   \n",
       "4        NaN     5   324.0   228.2    18.4     0.0       2     113    6340   \n",
       "\n",
       "   Para-8  Para-9  Para-10  Para-11  Para-12  Para-13  \n",
       "0     400     0.0      0.0      0.0        0     1.52  \n",
       "1    1190     0.0      3.4      0.0        0     1.62  \n",
       "2    1190     0.0     21.3      0.0        4     1.68  \n",
       "3    1340     0.0     21.3      0.0        5     1.78  \n",
       "4    1450     0.0     23.9      0.0        7     1.80  "
      ]
     },
     "execution_count": 73,
     "metadata": {},
     "output_type": "execute_result"
    }
   ],
   "source": [
    "df=pd.read_excel(\"DATASET.xlsx\")\n",
    "df.head()"
   ]
  },
  {
   "cell_type": "code",
   "execution_count": 74,
   "metadata": {},
   "outputs": [
    {
     "name": "stdout",
     "output_type": "stream",
     "text": [
      "(1009, 15) 1009\n",
      "(1000, 15) 1000\n"
     ]
    }
   ],
   "source": [
    "print(df.shape,len(df))\n",
    "df=pd.concat([df.iloc[0:910],df.iloc[919:]])\n",
    "print(df.shape,len(df))\n",
    "df.to_excel(\"DATASET_new.xlsx\",index=False)"
   ]
  },
  {
   "cell_type": "code",
   "execution_count": null,
   "metadata": {},
   "outputs": [],
   "source": [
    "\n"
   ]
  },
  {
   "cell_type": "code",
   "execution_count": 75,
   "metadata": {},
   "outputs": [
    {
     "name": "stdout",
     "output_type": "stream",
     "text": [
      "    Unnamed: 0  year  Para-1  Para-2  Para-3  Para-4  Para-5  Para-6  Para-7  \\\n",
      "0        Sec_1     1   324.0   354.5    17.0     0.0       3     117    2600   \n",
      "1          NaN     2   324.0   161.1    18.2     0.0       4     106    5950   \n",
      "2          NaN     3   324.0   170.7    18.5     0.0       4     110    5950   \n",
      "3          NaN     4   324.0   223.9    18.9     0.0       3     110    6150   \n",
      "4          NaN     5   324.0   228.2    18.4     0.0       2     113    6340   \n",
      "..         ...   ...     ...     ...     ...     ...     ...     ...     ...   \n",
      "895        NaN     5   454.0  1126.6    14.4    28.8      16     116    3842   \n",
      "896        NaN     6   454.0   931.8    13.6   125.0      13     116    4150   \n",
      "897        NaN     7   454.0   703.0    14.5    17.0      13     118    4150   \n",
      "898        NaN     8   454.0  1124.1    14.9    45.0      18     117    4200   \n",
      "899        NaN     9   454.0  1462.3    13.2    62.0      27     117    4400   \n",
      "\n",
      "     Para-8  Para-9  Para-10  Para-11  Para-12  Para-13  \n",
      "0       400     0.0      0.0      0.0        0    1.520  \n",
      "1      1190     0.0      3.4      0.0        0    1.620  \n",
      "2      1190     0.0     21.3      0.0        4    1.680  \n",
      "3      1340     0.0     21.3      0.0        5    1.780  \n",
      "4      1450     0.0     23.9      0.0        7    1.800  \n",
      "..      ...     ...      ...      ...      ...      ...  \n",
      "895     730    19.0      0.0      0.0       15    1.654  \n",
      "896     830    15.1      1.8      1.0       15    1.681  \n",
      "897     830    24.6      7.9      2.0       15    1.838  \n",
      "898     840   119.0     15.7      2.0       16    1.862  \n",
      "899     720   138.2     30.5      6.0       18    1.883  \n",
      "\n",
      "[900 rows x 15 columns]\n",
      "    Unnamed: 0  year  Para-1  Para-2  Para-3  Para-4  Para-5  Para-6  Para-7  \\\n",
      "0          NaN    10   324.0    53.6    19.0     0.0       2     105    7567   \n",
      "1          NaN    10   327.7    62.0    22.7     0.0       2     102   30525   \n",
      "2          NaN    10   487.7    93.2    22.5     0.0       4     110    2140   \n",
      "3          NaN    10   543.6    93.2    22.5     0.0       4     110    2140   \n",
      "4          NaN    10   434.4   149.0    11.7    72.0       3     110   13142   \n",
      "..         ...   ...     ...     ...     ...     ...     ...     ...     ...   \n",
      "95         NaN    10   514.0  1226.4    10.1   203.6      16     114    7672   \n",
      "96         NaN    10   901.0  1531.0    11.1    34.9      40     100   15150   \n",
      "97         NaN    10  1181.0  1364.9     9.2   274.3      24     112   12500   \n",
      "98         NaN    10   662.0  1110.7    12.8    33.2      27     117    3324   \n",
      "99         NaN    10   454.0   986.3    14.3    67.0      24     122    4415   \n",
      "\n",
      "    Para-8  Para-9  Para-10  Para-11  Para-12  Para-13  \n",
      "0     1885    16.8    105.0     65.0        9    1.960  \n",
      "1    10234    76.5     44.3      5.0        9    0.795  \n",
      "2     1270    78.5      0.0      0.0       16    1.432  \n",
      "3     1270    28.5     60.5     67.0       11    2.004  \n",
      "4     6225     0.0    276.2     34.0        6    1.792  \n",
      "..     ...     ...      ...      ...      ...      ...  \n",
      "95     303   219.7    206.2     10.0        8    1.607  \n",
      "96    1077     5.9     74.5     33.0       13    1.087  \n",
      "97     880   131.4     72.4     18.0       12    0.996  \n",
      "98    1356   193.7    305.6    180.0       12    2.212  \n",
      "99     721   293.0     39.8      7.0       18    1.889  \n",
      "\n",
      "[100 rows x 15 columns]\n"
     ]
    }
   ],
   "source": [
    "test_df=[]\n",
    "train_df=[]\n",
    "\n",
    "for i in range(0,len(df),10):\n",
    "    test_df.extend(df.values[i+9:i+10])\n",
    "    train_df.extend(df.values[i:i+9])\n",
    "\n",
    "\n",
    "test_df=pd.DataFrame(test_df,columns=df.columns)\n",
    "train_df=pd.DataFrame(train_df,columns=df.columns)\n",
    "print(train_df)\n",
    "print(test_df)\n",
    "\n",
    "    "
   ]
  },
  {
   "cell_type": "code",
   "execution_count": 89,
   "metadata": {},
   "outputs": [
    {
     "ename": "KeyError",
     "evalue": "'year'",
     "output_type": "error",
     "traceback": [
      "\u001b[1;31m---------------------------------------------------------------------------\u001b[0m",
      "\u001b[1;31mKeyError\u001b[0m                                  Traceback (most recent call last)",
      "Cell \u001b[1;32mIn [89], line 1\u001b[0m\n\u001b[1;32m----> 1\u001b[0m x\u001b[38;5;241m=\u001b[39m\u001b[43mtrain_df\u001b[49m\u001b[38;5;241;43m.\u001b[39;49m\u001b[43mloc\u001b[49m\u001b[43m[\u001b[49m\u001b[38;5;124;43m'\u001b[39;49m\u001b[38;5;124;43myear\u001b[39;49m\u001b[38;5;124;43m'\u001b[39;49m\u001b[43m]\u001b[49m\n\u001b[0;32m      2\u001b[0m \u001b[38;5;66;03m# y=train_df['Para-9','Para-10','Para-11','Para-12','Para-13']\u001b[39;00m\n\u001b[0;32m      3\u001b[0m \u001b[38;5;28mprint\u001b[39m(x)\n",
      "File \u001b[1;32md:\\College\\SEM7\\BIS\\PROJECTS\\Time Series\\Time-Series-Prediction\\env\\lib\\site-packages\\pandas\\core\\indexing.py:1074\u001b[0m, in \u001b[0;36m_LocationIndexer.__getitem__\u001b[1;34m(self, key)\u001b[0m\n\u001b[0;32m   1071\u001b[0m axis \u001b[39m=\u001b[39m \u001b[39mself\u001b[39m\u001b[39m.\u001b[39maxis \u001b[39mor\u001b[39;00m \u001b[39m0\u001b[39m\n\u001b[0;32m   1073\u001b[0m maybe_callable \u001b[39m=\u001b[39m com\u001b[39m.\u001b[39mapply_if_callable(key, \u001b[39mself\u001b[39m\u001b[39m.\u001b[39mobj)\n\u001b[1;32m-> 1074\u001b[0m \u001b[39mreturn\u001b[39;00m \u001b[39mself\u001b[39;49m\u001b[39m.\u001b[39;49m_getitem_axis(maybe_callable, axis\u001b[39m=\u001b[39;49maxis)\n",
      "File \u001b[1;32md:\\College\\SEM7\\BIS\\PROJECTS\\Time Series\\Time-Series-Prediction\\env\\lib\\site-packages\\pandas\\core\\indexing.py:1313\u001b[0m, in \u001b[0;36m_LocIndexer._getitem_axis\u001b[1;34m(self, key, axis)\u001b[0m\n\u001b[0;32m   1311\u001b[0m \u001b[39m# fall thru to straight lookup\u001b[39;00m\n\u001b[0;32m   1312\u001b[0m \u001b[39mself\u001b[39m\u001b[39m.\u001b[39m_validate_key(key, axis)\n\u001b[1;32m-> 1313\u001b[0m \u001b[39mreturn\u001b[39;00m \u001b[39mself\u001b[39;49m\u001b[39m.\u001b[39;49m_get_label(key, axis\u001b[39m=\u001b[39;49maxis)\n",
      "File \u001b[1;32md:\\College\\SEM7\\BIS\\PROJECTS\\Time Series\\Time-Series-Prediction\\env\\lib\\site-packages\\pandas\\core\\indexing.py:1261\u001b[0m, in \u001b[0;36m_LocIndexer._get_label\u001b[1;34m(self, label, axis)\u001b[0m\n\u001b[0;32m   1259\u001b[0m \u001b[39mdef\u001b[39;00m \u001b[39m_get_label\u001b[39m(\u001b[39mself\u001b[39m, label, axis: \u001b[39mint\u001b[39m):\n\u001b[0;32m   1260\u001b[0m     \u001b[39m# GH#5567 this will fail if the label is not present in the axis.\u001b[39;00m\n\u001b[1;32m-> 1261\u001b[0m     \u001b[39mreturn\u001b[39;00m \u001b[39mself\u001b[39;49m\u001b[39m.\u001b[39;49mobj\u001b[39m.\u001b[39;49mxs(label, axis\u001b[39m=\u001b[39;49maxis)\n",
      "File \u001b[1;32md:\\College\\SEM7\\BIS\\PROJECTS\\Time Series\\Time-Series-Prediction\\env\\lib\\site-packages\\pandas\\core\\generic.py:4057\u001b[0m, in \u001b[0;36mNDFrame.xs\u001b[1;34m(self, key, axis, level, drop_level)\u001b[0m\n\u001b[0;32m   4055\u001b[0m             new_index \u001b[39m=\u001b[39m index[loc]\n\u001b[0;32m   4056\u001b[0m \u001b[39melse\u001b[39;00m:\n\u001b[1;32m-> 4057\u001b[0m     loc \u001b[39m=\u001b[39m index\u001b[39m.\u001b[39;49mget_loc(key)\n\u001b[0;32m   4059\u001b[0m     \u001b[39mif\u001b[39;00m \u001b[39misinstance\u001b[39m(loc, np\u001b[39m.\u001b[39mndarray):\n\u001b[0;32m   4060\u001b[0m         \u001b[39mif\u001b[39;00m loc\u001b[39m.\u001b[39mdtype \u001b[39m==\u001b[39m np\u001b[39m.\u001b[39mbool_:\n",
      "File \u001b[1;32md:\\College\\SEM7\\BIS\\PROJECTS\\Time Series\\Time-Series-Prediction\\env\\lib\\site-packages\\pandas\\core\\indexes\\range.py:396\u001b[0m, in \u001b[0;36mRangeIndex.get_loc\u001b[1;34m(self, key, method, tolerance)\u001b[0m\n\u001b[0;32m    394\u001b[0m             \u001b[39mraise\u001b[39;00m \u001b[39mKeyError\u001b[39;00m(key) \u001b[39mfrom\u001b[39;00m \u001b[39merr\u001b[39;00m\n\u001b[0;32m    395\u001b[0m     \u001b[39mself\u001b[39m\u001b[39m.\u001b[39m_check_indexing_error(key)\n\u001b[1;32m--> 396\u001b[0m     \u001b[39mraise\u001b[39;00m \u001b[39mKeyError\u001b[39;00m(key)\n\u001b[0;32m    397\u001b[0m \u001b[39mreturn\u001b[39;00m \u001b[39msuper\u001b[39m()\u001b[39m.\u001b[39mget_loc(key, method\u001b[39m=\u001b[39mmethod, tolerance\u001b[39m=\u001b[39mtolerance)\n",
      "\u001b[1;31mKeyError\u001b[0m: 'year'"
     ]
    }
   ],
   "source": [
    "x=train_df[['Para-1','Para2','Para-3','Para-4','Para-5','Para-6','Para-7','Para-8']]\n",
    "# y=train_df['Para-9','Para-10','Para-11','Para-12','Para-13']\n",
    "print(x)"
   ]
  },
  {
   "cell_type": "code",
   "execution_count": null,
   "metadata": {},
   "outputs": [],
   "source": []
  }
 ],
 "metadata": {
  "kernelspec": {
   "display_name": "Python 3.9.10 ('env': venv)",
   "language": "python",
   "name": "python3"
  },
  "language_info": {
   "codemirror_mode": {
    "name": "ipython",
    "version": 3
   },
   "file_extension": ".py",
   "mimetype": "text/x-python",
   "name": "python",
   "nbconvert_exporter": "python",
   "pygments_lexer": "ipython3",
   "version": "3.9.10"
  },
  "orig_nbformat": 4,
  "vscode": {
   "interpreter": {
    "hash": "100223b6cd87d8dc6b605e3a0e8f2f3ec57f5a1bed3980de14e71efad53d0b3a"
   }
  }
 },
 "nbformat": 4,
 "nbformat_minor": 2
}
